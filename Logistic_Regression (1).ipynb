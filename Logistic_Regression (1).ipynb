{
  "nbformat": 4,
  "nbformat_minor": 0,
  "metadata": {
    "colab": {
      "name": "Logistic_Regression.ipynb",
      "provenance": []
    },
    "kernelspec": {
      "name": "python3",
      "display_name": "Python 3"
    }
  },
  "cells": [
    {
      "cell_type": "code",
      "metadata": {
        "id": "KAKcO6UuPOKC"
      },
      "source": [
        "import tensorflow as tf\n",
        "import matplotlib.pyplot as plt\n",
        "import numpy as np"
      ],
      "execution_count": null,
      "outputs": []
    },
    {
      "cell_type": "code",
      "metadata": {
        "colab": {
          "base_uri": "https://localhost:8080/"
        },
        "id": "wGV_Y5GYbtIq",
        "outputId": "7ee53f22-81b0-4a6b-8da1-8f3c72b452a4"
      },
      "source": [
        "from sklearn.datasets import load_digits\n",
        "mnist = load_digits()\n",
        "print(mnist.data.shape)"
      ],
      "execution_count": null,
      "outputs": [
        {
          "output_type": "stream",
          "text": [
            "(1797, 64)\n"
          ],
          "name": "stdout"
        }
      ]
    },
    {
      "cell_type": "code",
      "metadata": {
        "id": "VXwmo9bvbvzz"
      },
      "source": [
        "X = mnist.data \n",
        "y = mnist.target"
      ],
      "execution_count": null,
      "outputs": []
    },
    {
      "cell_type": "code",
      "metadata": {
        "colab": {
          "base_uri": "https://localhost:8080/"
        },
        "id": "qy5a_fs1b24P",
        "outputId": "4f2c6a2a-be3c-4001-c322-8e4b684a2bc9"
      },
      "source": [
        "from sklearn.model_selection import train_test_split\n",
        "X_train, X_test, y_train, y_test = train_test_split(X, y, test_size=0.2, random_state=123)\n",
        "print(X_train.shape, y_train.shape)\n",
        "print(X_test.shape, y_test.shape)"
      ],
      "execution_count": null,
      "outputs": [
        {
          "output_type": "stream",
          "text": [
            "(1437, 64) (1437,)\n",
            "(360, 64) (360,)\n"
          ],
          "name": "stdout"
        }
      ]
    },
    {
      "cell_type": "code",
      "metadata": {
        "id": "BWeCSGIvb73R"
      },
      "source": [
        "def hypothesis(X,theta):\n",
        "  z = np.dot(X,theta)\n",
        "  y_ = sigmoid(z)\n",
        "  return y_"
      ],
      "execution_count": null,
      "outputs": []
    },
    {
      "cell_type": "code",
      "metadata": {
        "id": "2dsrvkLYg6dH"
      },
      "source": [
        "def sigmoid(z):\n",
        "  return 1.0/(1+np.exp(-1*z))"
      ],
      "execution_count": null,
      "outputs": []
    },
    {
      "cell_type": "code",
      "metadata": {
        "id": "u_7-ACaDg8xM"
      },
      "source": [
        "def error(X,theta,y):\n",
        "  m = X.shape[0]\n",
        "  y_ = hypothesis(X,theta)\n",
        "  err = np.dot(-y,np.log(y_))- np.dot((1-y),np.log(1-y_))\n",
        "  return err/m"
      ],
      "execution_count": null,
      "outputs": []
    },
    {
      "cell_type": "code",
      "metadata": {
        "id": "5X6oTfM7hKGU"
      },
      "source": [
        "def gradient(X,theta,y):\n",
        "  y_ = hypothesis(X,theta)\n",
        "  m = X.shape[0]\n",
        "  grad = np.dot(X.T,y_-y)\n",
        "  return grad/m"
      ],
      "execution_count": null,
      "outputs": []
    },
    {
      "cell_type": "code",
      "metadata": {
        "id": "LXLQ0fNhfMxI"
      },
      "source": [
        "def define_the_theta(a,bias=1.0):\n",
        "    t = list(map(lambda x: 0.0, range(a)))\n",
        "    return np.array(t)\n",
        "theta = define_the_theta(len(X[0]))"
      ],
      "execution_count": null,
      "outputs": []
    },
    {
      "cell_type": "code",
      "metadata": {
        "id": "LUje4EpCfXsz"
      },
      "source": [
        "def gradient_descent(X,y,learning_rate=0.1,epochs=50):\n",
        "  m,n = X.shape\n",
        "  theta = np.zeros((n,))\n",
        "  err_list = []\n",
        "  for i in range(epoch):\n",
        "    err = error(X,theta,y)\n",
        "    err_list.append(err)\n",
        "    grad = gradient(X,theta,y)\n",
        "    theta = theta-learning_rate*grad\n",
        "  return theta,err_list"
      ],
      "execution_count": null,
      "outputs": []
    },
    {
      "cell_type": "code",
      "metadata": {
        "colab": {
          "base_uri": "https://localhost:8080/"
        },
        "id": "iHrjq9ujgIUs",
        "outputId": "37bc84d4-1f7e-46db-962a-3da77e0a9b1d"
      },
      "source": [
        "theta,err_list = gradient_descent(X,y)"
      ],
      "execution_count": null,
      "outputs": [
        {
          "output_type": "stream",
          "text": [
            "/usr/local/lib/python3.6/dist-packages/ipykernel_launcher.py:4: RuntimeWarning: divide by zero encountered in log\n",
            "  after removing the cwd from sys.path.\n"
          ],
          "name": "stderr"
        }
      ]
    },
    {
      "cell_type": "code",
      "metadata": {
        "colab": {
          "base_uri": "https://localhost:8080/",
          "height": 283
        },
        "id": "FSKEgzLBh60O",
        "outputId": "5d4c295c-2122-4646-8f9f-54057ad24cfe"
      },
      "source": [
        "plt.plot(err_list)"
      ],
      "execution_count": null,
      "outputs": [
        {
          "output_type": "execute_result",
          "data": {
            "text/plain": [
              "[<matplotlib.lines.Line2D at 0x7f451c06b2e8>]"
            ]
          },
          "metadata": {
            "tags": []
          },
          "execution_count": 38
        },
        {
          "output_type": "display_data",
          "data": {
            "image/png": "[encoded data removed]",
            "text/plain": [
              "<Figure size 432x288 with 1 Axes>"
            ]
          },
          "metadata": {
            "tags": [],
            "needs_background": "light"
          }
        }
      ]
    },
    {
      "cell_type": "code",
      "metadata": {
        "id": "jYUtSnNIiG20"
      },
      "source": [
        "y_ = hypothesis(X,theta)"
      ],
      "execution_count": null,
      "outputs": []
    },
    {
      "cell_type": "code",
      "metadata": {
        "id": "yKMUURYhiZxP"
      },
      "source": [
        "y_[y_>0.5] = 1\n",
        "y_[y_<=0.5] = 0"
      ],
      "execution_count": null,
      "outputs": []
    },
    {
      "cell_type": "code",
      "metadata": {
        "colab": {
          "base_uri": "https://localhost:8080/"
        },
        "id": "BiuBw8Nmij6r",
        "outputId": "fed27358-7092-4be6-f2cd-b920ab1ddbdc"
      },
      "source": [
        "print(y)"
      ],
      "execution_count": null,
      "outputs": [
        {
          "output_type": "stream",
          "text": [
            "[0 1 2 ... 8 9 8]\n"
          ],
          "name": "stdout"
        }
      ]
    },
    {
      "cell_type": "code",
      "metadata": {
        "colab": {
          "base_uri": "https://localhost:8080/"
        },
        "id": "6UC481JWiuAa",
        "outputId": "31d6ba0c-e479-461c-8c61-9687631ff35f"
      },
      "source": [
        "print(y_)"
      ],
      "execution_count": null,
      "outputs": [
        {
          "output_type": "stream",
          "text": [
            "[1. 1. 1. ... 1. 1. 1.]\n"
          ],
          "name": "stdout"
        }
      ]
    },
    {
      "cell_type": "code",
      "metadata": {
        "colab": {
          "base_uri": "https://localhost:8080/",
          "height": 297
        },
        "id": "GXEBGdxli5qX",
        "outputId": "4fce0aa6-8571-4d12-805f-729567124930"
      },
      "source": [
        "plt.plot(y_)\n",
        "plt.xlabel(\"No._of_Epoch\") \n",
        "plt.ylabel(\"Accuracy\")"
      ],
      "execution_count": null,
      "outputs": [
        {
          "output_type": "execute_result",
          "data": {
            "text/plain": [
              "Text(0, 0.5, 'Accuracy')"
            ]
          },
          "metadata": {
            "tags": []
          },
          "execution_count": 44
        },
        {
          "output_type": "display_data",
          "data": {
            "image/png": "[encoded data removed]",
            "text/plain": [
              "<Figure size 432x288 with 1 Axes>"
            ]
          },
          "metadata": {
            "tags": [],
            "needs_background": "light"
          }
        }
      ]
    },
    {
      "cell_type": "code",
      "metadata": {
        "colab": {
          "base_uri": "https://localhost:8080/",
          "height": 297
        },
        "id": "Sb_ZRX2ojHuF",
        "outputId": "ffd9edbb-2e54-46ed-e7c6-8b3c392d3f92"
      },
      "source": [
        "plt.plot(y)\n",
        "plt.xlabel(\"No._of_Epoch\") \n",
        "plt.ylabel(\"Accuracy\")"
      ],
      "execution_count": null,
      "outputs": [
        {
          "output_type": "execute_result",
          "data": {
            "text/plain": [
              "Text(0, 0.5, 'Accuracy')"
            ]
          },
          "metadata": {
            "tags": []
          },
          "execution_count": 47
        },
        {
          "output_type": "display_data",
          "data": {
            "image/png": "[encoded data removed]",
            "text/plain": [
              "<Figure size 432x288 with 1 Axes>"
            ]
          },
          "metadata": {
            "tags": [],
            "needs_background": "light"
          }
        }
      ]
    }
  ]
}